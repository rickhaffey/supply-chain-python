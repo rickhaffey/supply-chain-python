{
 "cells": [
  {
   "cell_type": "markdown",
   "metadata": {},
   "source": [
    "## Multiple Items\n",
    "\n",
    "**Goals** beyond approach for single items:\n",
    "\n",
    "* manage _coordination_ of ordering\n",
    "* manage _common constraints_ (budget, space, etc.)\n",
    "* allow _consolidation_ (shared costs, etc.)\n",
    "* _conserve management time_\n",
    "\n",
    "**Techniques**:\n",
    "\n",
    "* Aggregate SKUs under similar operating policies\n",
    "    * group via common characteristics or break points\n",
    "    * group via Power of Two policies\n",
    "* Manage inventory under common constraints - Exchange Curves\n",
    "    * for Cycle Stock\n",
    "    * for Safety Stock"
   ]
  },
  {
   "cell_type": "markdown",
   "metadata": {},
   "source": [
    "### Group Like Items - Break Points\n",
    "\n",
    "**Basic Idea**:\n",
    "\n",
    "Replenish higher value items faster\n",
    "\n",
    "**Usage**: \n",
    "\n",
    "Multiple items with:\n",
    "\n",
    "* (relatively) stable demand\n",
    "* *similar* ordering costs, $c_t$\n",
    "* *similar* holding charges, $h$\n",
    "* *different* annual demands, $D_i$\n",
    "* *different* purchase costs, $c_i$\n",
    "\n",
    "**Approach**:\n",
    "\n",
    "* let $i$ represent the items under consideration\n",
    "* pick base time period, $w_0$\n",
    "    * typically a week\n",
    "* define set of candidate ordering periods, $w_j$: ($w_1$, $w_2$, etc.)\n",
    "    * note that the periods must be increasing, s.t. $w_{j-1} < w_j < w_{j+1}$\n",
    "* find $D_ic_i$ values where $TRC(w_j) = TRC(w_{j+1})$\n",
    "* group SKUS that fall in common value ($D_ic_i$) buckets\n",
    "\n",
    "**Rule**:\n",
    "\n",
    "```\n",
    "if   D_i * c_i >= 5408 * c_t / (h * w_1 * w_2) then select w_1\n",
    "elif D_i * c_i >= 5408 * c_t / (h * w_2 * w_3) then select w_2\n",
    "elif D_i * c_i >= 5408 * c_t / (h * w_3 * w_4) then select w_3\n",
    "etc ...\n",
    "```\n",
    "\n",
    "Note: The value '5408' assumes all costs and demand are defined in annual terms, and the $w_j$ values are _weekly_ increments.  It's calculated as $2 \\cdot 52^2$"
   ]
  },
  {
   "cell_type": "code",
   "execution_count": 3,
   "metadata": {},
   "outputs": [],
   "source": [
    "# TODO: concrete example\n",
    "# TODO: plot showing how different SKUs fall into groups"
   ]
  },
  {
   "cell_type": "markdown",
   "metadata": {},
   "source": [
    "### Power of Two Policies\n",
    "\n",
    "**Motivation**: \n",
    "\n",
    "* (from EOQ lessons):\n",
    "* TRC will be within 6% of optimal when ordering in time intervals of powers of two\n",
    "\n",
    "**Technique**:\n",
    "\n",
    "* create table of SKUs\n",
    "* calculate $T^*$ for each SKU\n",
    "\n",
    "$$\n",
    "T^* = \\frac{Q^*}{D} \\\n",
    "    = \\frac{\\sqrt{ \\frac{2 c_t D}{c_e} }}{D} \\\n",
    "    = \\sqrt{ \\frac{ 2 c_t } { D c_e }  }\n",
    "$$\n",
    "\n",
    "* calculate $T_{practical}$ for each SKU\n",
    "\n",
    "$$\n",
    "p = \\Biggl\\lceil \\frac{\\ln{\\left( \\frac{T^*}{\\sqrt{2}} \\right) }}{\\ln{(2)}} \\Biggr\\rceil\n",
    "$$\n",
    "\n",
    "$$\n",
    "T_{practical} = 2^{p}\n",
    "$$"
   ]
  },
  {
   "cell_type": "code",
   "execution_count": 4,
   "metadata": {},
   "outputs": [],
   "source": [
    "# TODO: concrete example\n",
    "# TODO: plot showing how different SKUs fall into different groups"
   ]
  },
  {
   "cell_type": "markdown",
   "metadata": {},
   "source": [
    "### Exchange Curves - Cycle Stock\n",
    "\n",
    "**Motivation**:\n",
    "\n",
    "* under a given budget for inventory\n",
    "* find the best allocation across multiple SKUs\n",
    "* using cost parameters as policy 'levers'\n",
    "\n",
    "**Relevant Cost Parameters**:\n",
    "\n",
    "* holding charge, $h$\n",
    "* ordering cost, $c_t$\n",
    "\n",
    "**Exchange Curve**:\n",
    "\n",
    "* trade-off between TACS and N:\n",
    "    * total annual cycle stock (TACS)\n",
    "    * $\\sum_{i=1}^n \\frac{Q_ic_i}{2}$    \n",
    "    * number of replenishments (N)\n",
    "    * $\\sum_{i=1}^n \\frac{D_i}{Q_i}$\n",
    "* determine $\\frac{c_t}{h}$ that meets budget constraints\n",
    "\n",
    "Next, put both $N$ and $TACS$ in terms of a ratio of $h$ to $c_t$ by substituting $Q*$ in for $Q$ and simplifying.  After doing that, we arrive at:\n",
    "\n",
    "$$\n",
    "TACS = \\sqrt{\\frac{c_t}{h}}\\frac{1}{\\sqrt{2}} \\sum_{i=1}^n{\\sqrt{D_ic_i}}\n",
    "$$\n",
    "\n",
    "$$\n",
    "N = \\sqrt{\\frac{h}{c_t}}\\frac{1}{\\sqrt{2}} \\sum_{i=1}^n{\\sqrt{D_ic_i}}\n",
    "$$\n",
    "\n",
    "Finally, generate a range of $\\frac{c_t}{h}$ ratios, and corresponding $N$ and $TACS$ values.  These can then be plotted ...\n"
   ]
  },
  {
   "cell_type": "code",
   "execution_count": 7,
   "metadata": {},
   "outputs": [],
   "source": [
    "import pandas as pd\n",
    "import numpy as np\n",
    "import matplotlib.pyplot as plt\n",
    "import math"
   ]
  },
  {
   "cell_type": "code",
   "execution_count": 3,
   "metadata": {},
   "outputs": [],
   "source": [
    "%matplotlib inline"
   ]
  },
  {
   "cell_type": "code",
   "execution_count": 14,
   "metadata": {},
   "outputs": [
    {
     "data": {
      "text/html": [
       "<div>\n",
       "<style scoped>\n",
       "    .dataframe tbody tr th:only-of-type {\n",
       "        vertical-align: middle;\n",
       "    }\n",
       "\n",
       "    .dataframe tbody tr th {\n",
       "        vertical-align: top;\n",
       "    }\n",
       "\n",
       "    .dataframe thead th {\n",
       "        text-align: right;\n",
       "    }\n",
       "</style>\n",
       "<table border=\"1\" class=\"dataframe\">\n",
       "  <thead>\n",
       "    <tr style=\"text-align: right;\">\n",
       "      <th></th>\n",
       "      <th>Sales</th>\n",
       "      <th>Cost</th>\n",
       "    </tr>\n",
       "    <tr>\n",
       "      <th>SKU</th>\n",
       "      <th></th>\n",
       "      <th></th>\n",
       "    </tr>\n",
       "  </thead>\n",
       "  <tbody>\n",
       "    <tr>\n",
       "      <th>71622</th>\n",
       "      <td>15828</td>\n",
       "      <td>0.14</td>\n",
       "    </tr>\n",
       "    <tr>\n",
       "      <th>16396</th>\n",
       "      <td>12708</td>\n",
       "      <td>0.03</td>\n",
       "    </tr>\n",
       "    <tr>\n",
       "      <th>38579</th>\n",
       "      <td>5304</td>\n",
       "      <td>0.15</td>\n",
       "    </tr>\n",
       "    <tr>\n",
       "      <th>53519</th>\n",
       "      <td>5880</td>\n",
       "      <td>0.00</td>\n",
       "    </tr>\n",
       "    <tr>\n",
       "      <th>97176</th>\n",
       "      <td>3936</td>\n",
       "      <td>0.99</td>\n",
       "    </tr>\n",
       "  </tbody>\n",
       "</table>\n",
       "</div>"
      ],
      "text/plain": [
       "       Sales  Cost\n",
       "SKU               \n",
       "71622  15828  0.14\n",
       "16396  12708  0.03\n",
       "38579   5304  0.15\n",
       "53519   5880  0.00\n",
       "97176   3936  0.99"
      ]
     },
     "execution_count": 14,
     "metadata": {},
     "output_type": "execute_result"
    }
   ],
   "source": [
    "hosp_data = pd.read_csv('./W09_L1_V04_hospital_data.csv', index_col=0)\n",
    "hosp_data.head()"
   ]
  },
  {
   "cell_type": "code",
   "execution_count": 45,
   "metadata": {},
   "outputs": [],
   "source": [
    "from functools import reduce\n",
    "\n",
    "k = (\n",
    "    (1 / math.sqrt(2)) *\n",
    "    (np.sqrt(hosp_data['Sales'] * hosp_data['Cost'])).sum()\n",
    ")\n",
    "\n",
    "ratios = (sorted(\n",
    "    reduce(list.__add__, [\n",
    "        [i * 10, i * 100, i * 1000] for i in range(1, 10)\n",
    "    ])\n",
    "))\n",
    "ratios.append(10000)\n",
    "ratios.reverse()\n",
    "\n",
    "Ns = [math.sqrt(1/ratio) * k for ratio in ratios]\n",
    "TACSs = [math.sqrt(ratio) * k for ratio in ratios]"
   ]
  },
  {
   "cell_type": "code",
   "execution_count": 46,
   "metadata": {},
   "outputs": [
    {
     "data": {
      "text/html": [
       "<div>\n",
       "<style scoped>\n",
       "    .dataframe tbody tr th:only-of-type {\n",
       "        vertical-align: middle;\n",
       "    }\n",
       "\n",
       "    .dataframe tbody tr th {\n",
       "        vertical-align: top;\n",
       "    }\n",
       "\n",
       "    .dataframe thead th {\n",
       "        text-align: right;\n",
       "    }\n",
       "</style>\n",
       "<table border=\"1\" class=\"dataframe\">\n",
       "  <thead>\n",
       "    <tr style=\"text-align: right;\">\n",
       "      <th></th>\n",
       "      <th>ct/h</th>\n",
       "      <th>N</th>\n",
       "      <th>TACS</th>\n",
       "    </tr>\n",
       "  </thead>\n",
       "  <tbody>\n",
       "    <tr>\n",
       "      <th>0</th>\n",
       "      <td>10000</td>\n",
       "      <td>13.687904</td>\n",
       "      <td>136879.037045</td>\n",
       "    </tr>\n",
       "    <tr>\n",
       "      <th>1</th>\n",
       "      <td>9000</td>\n",
       "      <td>14.428317</td>\n",
       "      <td>129854.856298</td>\n",
       "    </tr>\n",
       "    <tr>\n",
       "      <th>2</th>\n",
       "      <td>8000</td>\n",
       "      <td>15.303542</td>\n",
       "      <td>122428.332611</td>\n",
       "    </tr>\n",
       "    <tr>\n",
       "      <th>3</th>\n",
       "      <td>7000</td>\n",
       "      <td>16.360174</td>\n",
       "      <td>114521.218766</td>\n",
       "    </tr>\n",
       "    <tr>\n",
       "      <th>4</th>\n",
       "      <td>6000</td>\n",
       "      <td>17.671008</td>\n",
       "      <td>106026.046184</td>\n",
       "    </tr>\n",
       "  </tbody>\n",
       "</table>\n",
       "</div>"
      ],
      "text/plain": [
       "    ct/h          N           TACS\n",
       "0  10000  13.687904  136879.037045\n",
       "1   9000  14.428317  129854.856298\n",
       "2   8000  15.303542  122428.332611\n",
       "3   7000  16.360174  114521.218766\n",
       "4   6000  17.671008  106026.046184"
      ]
     },
     "execution_count": 46,
     "metadata": {},
     "output_type": "execute_result"
    }
   ],
   "source": [
    "exch_df = pd.DataFrame(data={\n",
    "    \"ct/h\": ratios, \n",
    "    \"N\": Ns, \n",
    "    \"TACS\": TACSs\n",
    "})\n",
    "\n",
    "exch_df.head()"
   ]
  },
  {
   "cell_type": "code",
   "execution_count": 49,
   "metadata": {},
   "outputs": [
    {
     "data": {
      "image/png": "[encoded data removed]",
      "text/plain": [
       "<Figure size 1008x720 with 1 Axes>"
      ]
     },
     "metadata": {
      "needs_background": "light"
     },
     "output_type": "display_data"
    }
   ],
   "source": [
    "plt.figure(figsize=(14, 10))\n",
    "\n",
    "plt.plot(exch_df['N'], exch_df['TACS'])\n",
    "plt.scatter(exch_df['N'], exch_df['TACS'])\n",
    "plt.xlabel('Number of Annual Replenishments (N)')\n",
    "plt.ylabel('Total Average Cycle Stock Value')\n",
    "plt.title('Exchange Curve - Cycle Stock [65 SKUs from Hospital Ward]')\n",
    "plt.show();"
   ]
  },
  {
   "cell_type": "code",
   "execution_count": null,
   "metadata": {},
   "outputs": [],
   "source": [
    "# TODO: example 1: use curve to determine "
   ]
  },
  {
   "cell_type": "markdown",
   "metadata": {},
   "source": [
    "## Exchange Curves - Safety Stock\n",
    "\n",
    "**Motivation**:\n",
    "\n",
    "* Have a _safety stock_ budget\n",
    "* trade-off: cost vs. level of service\n",
    "* key parameter: $k$ (safety factor)\n",
    "* estimate aggregate service level for different budgets\n",
    "\n",
    "**Process**:\n",
    "\n",
    "1. select target metric\n",
    "1. start with high value of metric\n",
    "1. at that level, calculate:\n",
    "    1. $k_i$ to meet target for each SKU\n",
    "    1. resulting safety stock for each SKU, and total safety stock (TSS)\n",
    "    1. other resulting metric of interest for each SKU, and total\n",
    "1. lower the metric, and go to step 3\n",
    "1. chart resulting TSS vs inventory metrics\n",
    "\n",
    "\n",
    "$$\n",
    "TSS = \\sum_{i=1}^n{k_i \\sigma_{DL_i} c_i}\n",
    "$$\n",
    "\n",
    "Total value of items short (TVIS):\n",
    "\n",
    "$$\n",
    "TVIS = \\sum_{i=1}^n \\left(\\frac{D_i}{Q_i} c_i \\sigma_{DL_i} G(k_i) \\right)\n",
    "$$"
   ]
  },
  {
   "cell_type": "code",
   "execution_count": 2,
   "metadata": {},
   "outputs": [],
   "source": [
    "# TODO: table:\n",
    "# CSL k TVIS TSS\n",
    "# 0.999 0.99 => 0.50\n",
    "# TODO: plot curve\n",
    "# (note): datafile doesn't include sigma values"
   ]
  },
  {
   "cell_type": "markdown",
   "metadata": {},
   "source": [
    "## Multiple Locations\n",
    "\n",
    "* How are cycle stock and safety stock levels impacted when they are \"pooled\" across multiple locations, rather than being managed independently at each location?\n",
    "* Given $n$ locations, average cycle stock, average safety stock, and average inventory will all be reduced by a factor of $\\sqrt{n}$ as a result of pooling the inventory across those locations.\n",
    "* cycle stock reduces as a result of \"pooled\" ordering costs, in turn reducing $Q*$ (??)\n",
    "* safety stock reduces as a result of _Risk Pooling_"
   ]
  },
  {
   "cell_type": "markdown",
   "metadata": {},
   "source": [
    "## Inventory Management by Segment\n",
    "\n",
    "* Our focus up to now has been largely on B Items\n",
    "* (See slide with matrix of interactions against segments)\n",
    "\n",
    "* Classify handling as:\n",
    "  * A => Active\n",
    "      - more time spent managing\n",
    "      - continuous: (s, S)\n",
    "      - periodic (R, s, S)\n",
    "  * B => Automatic\n",
    "      - continuous: (s, Q)\n",
    "      - periodic: (R, S)\n",
    "  * C => Passive\n",
    "      - less time spent managing\n",
    "      - periodic: Manual ~ (R,S)"
   ]
  },
  {
   "cell_type": "markdown",
   "metadata": {},
   "source": [
    "## Inventory Policies for Class A Items\n",
    "\n",
    "* when is it worth spending more time on these items\n",
    "    * balance complexity vs other costs\n",
    "    * balance effort vs savings\n",
    "* inclusion in Class A largely driven by either $c$ or $D$\n",
    "    * two types:\n",
    "    * fast moving but cheap\n",
    "        - large $D$\n",
    "        - small $c$\n",
    "        - => $Q > 1$\n",
    "        - Normal or Lognormal Distribution\n",
    "            - as long as $\\mu_{DL}$ or $\\mu_{DL+R} \\ge 10$\n",
    "    * slow moving but expensive\n",
    "        - small $D$\n",
    "        - large $c$\n",
    "        - => $Q = 1$\n",
    "        - Poisson Distribution\n",
    "            - as long as $\\mu_{DL}$ or $\\mu_{DL+R} \\lt 10$"
   ]
  },
  {
   "cell_type": "markdown",
   "metadata": {},
   "source": [
    "## Fast Moving A Items\n",
    "\n",
    "* under scenario with Cost per Stock Out Event ($B_1$)\n",
    "* start with\n",
    "\n",
    "$$\n",
    "Q^* = EOQ\n",
    "$$\n",
    "\n",
    "and \n",
    "\n",
    "$$\n",
    "k^* = \\sqrt{2 \\ln{\\left(\\frac{DB_1}{\\sqrt{2 \\pi} Q c_e \\sigma_{DL}}\\right)}}\n",
    "$$\n",
    "\n",
    "Then iteratively update both, using:\n",
    "\n",
    "$$\n",
    "Q^* = EOQ \\sqrt{ 1 + \\frac{ B_1 P[x > k] } { c_t }  }\n",
    "$$\n",
    "\n",
    "and\n",
    "\n",
    "$$\n",
    "k^* = \\sqrt{2 \\ln{\\left(\\frac{DB_1}{\\sqrt{2 \\pi} Q c_e \\sigma_{DL}}\\right)}}\n",
    "$$\n",
    "\n",
    "Until $Q^*$ and $k^*$ converge within some acceptable range.\n",
    "\n",
    "This will lead to increased cycle stock and decreased safety stock, in turn, reducing likelihood of stockout event."
   ]
  },
  {
   "cell_type": "markdown",
   "metadata": {},
   "source": [
    "## Slow Moving Class A Items\n",
    "\n",
    "* Poisson Distribution\n",
    "  - probability of events occuring within a time period\n",
    "  - mean = variance = $\\lambda$\n",
    "  \n",
    "Example:\n",
    "\n",
    "Given a desired CSL of 0.95, you'd solve for the first value of $s$ that would produce a Poisson cdf >= 0.95."
   ]
  },
  {
   "cell_type": "code",
   "execution_count": 36,
   "metadata": {},
   "outputs": [
    {
     "name": "stdout",
     "output_type": "stream",
     "text": [
      "   demand      p[x]      F[x]\n",
      "0       0  0.074274  0.074274\n",
      "1       1  0.193111  0.267385\n",
      "2       2  0.251045  0.518430\n",
      "3       3  0.217572  0.736002\n",
      "4       4  0.141422  0.877423\n",
      "5       5  0.073539  0.950963\n",
      "6       6  0.031867  0.982830\n",
      "7       7  0.011836  0.994666\n",
      "8       8  0.003847  0.998513\n",
      "\n",
      "s: 5.0\n"
     ]
    }
   ],
   "source": [
    "from scipy.stats import poisson\n",
    "import pandas as pd\n",
    "\n",
    "lmbda = 2.6\n",
    "demand = list(range(9))\n",
    "pmf = list(poisson.pmf(x, lmbda) for x in demand)\n",
    "cdf = list(poisson.cdf(x, lmbda) for x in demand)\n",
    "\n",
    "df = pd.DataFrame(data={\n",
    "    'demand': demand,\n",
    "    'p[x]': pmf,\n",
    "    'F[x]': cdf\n",
    "})\n",
    "print(df)\n",
    "\n",
    "csl = 0.95\n",
    "s = (df[df['F[x]'] >= csl]).iloc[0]['demand']\n",
    "print(\"\\ns: {}\".format(s))"
   ]
  },
  {
   "cell_type": "markdown",
   "metadata": {},
   "source": [
    "What is IFR?\n",
    "\n",
    "- Loss Function for Discrete Distribution\n",
    "\n",
    "$$\n",
    "loss[X_n] =\n",
    "\\begin{cases}\n",
    "    {mean} - X_1, & \\text{if}\\ n=1 \\\\\n",
    "    loss[X_{n-1}] - (X_n - X_{n-1}) (1 - F[X_{n-1}]), & \\text{otherwise}\n",
    "\\end{cases}\n",
    "$$"
   ]
  },
  {
   "cell_type": "code",
   "execution_count": 42,
   "metadata": {},
   "outputs": [
    {
     "data": {
      "text/html": [
       "<div>\n",
       "<style scoped>\n",
       "    .dataframe tbody tr th:only-of-type {\n",
       "        vertical-align: middle;\n",
       "    }\n",
       "\n",
       "    .dataframe tbody tr th {\n",
       "        vertical-align: top;\n",
       "    }\n",
       "\n",
       "    .dataframe thead th {\n",
       "        text-align: right;\n",
       "    }\n",
       "</style>\n",
       "<table border=\"1\" class=\"dataframe\">\n",
       "  <thead>\n",
       "    <tr style=\"text-align: right;\">\n",
       "      <th></th>\n",
       "      <th>demand</th>\n",
       "      <th>p[x]</th>\n",
       "      <th>F[x]</th>\n",
       "      <th>L[x]</th>\n",
       "    </tr>\n",
       "  </thead>\n",
       "  <tbody>\n",
       "    <tr>\n",
       "      <th>0</th>\n",
       "      <td>0</td>\n",
       "      <td>0.074274</td>\n",
       "      <td>0.074274</td>\n",
       "      <td>2.600000</td>\n",
       "    </tr>\n",
       "    <tr>\n",
       "      <th>1</th>\n",
       "      <td>1</td>\n",
       "      <td>0.193111</td>\n",
       "      <td>0.267385</td>\n",
       "      <td>1.674274</td>\n",
       "    </tr>\n",
       "    <tr>\n",
       "      <th>2</th>\n",
       "      <td>2</td>\n",
       "      <td>0.251045</td>\n",
       "      <td>0.518430</td>\n",
       "      <td>0.941658</td>\n",
       "    </tr>\n",
       "    <tr>\n",
       "      <th>3</th>\n",
       "      <td>3</td>\n",
       "      <td>0.217572</td>\n",
       "      <td>0.736002</td>\n",
       "      <td>0.460088</td>\n",
       "    </tr>\n",
       "    <tr>\n",
       "      <th>4</th>\n",
       "      <td>4</td>\n",
       "      <td>0.141422</td>\n",
       "      <td>0.877423</td>\n",
       "      <td>0.196090</td>\n",
       "    </tr>\n",
       "    <tr>\n",
       "      <th>5</th>\n",
       "      <td>5</td>\n",
       "      <td>0.073539</td>\n",
       "      <td>0.950963</td>\n",
       "      <td>0.073513</td>\n",
       "    </tr>\n",
       "    <tr>\n",
       "      <th>6</th>\n",
       "      <td>6</td>\n",
       "      <td>0.031867</td>\n",
       "      <td>0.982830</td>\n",
       "      <td>0.024476</td>\n",
       "    </tr>\n",
       "    <tr>\n",
       "      <th>7</th>\n",
       "      <td>7</td>\n",
       "      <td>0.011836</td>\n",
       "      <td>0.994666</td>\n",
       "      <td>0.007306</td>\n",
       "    </tr>\n",
       "    <tr>\n",
       "      <th>8</th>\n",
       "      <td>8</td>\n",
       "      <td>0.003847</td>\n",
       "      <td>0.998513</td>\n",
       "      <td>0.001972</td>\n",
       "    </tr>\n",
       "  </tbody>\n",
       "</table>\n",
       "</div>"
      ],
      "text/plain": [
       "   demand      p[x]      F[x]      L[x]\n",
       "0       0  0.074274  0.074274  2.600000\n",
       "1       1  0.193111  0.267385  1.674274\n",
       "2       2  0.251045  0.518430  0.941658\n",
       "3       3  0.217572  0.736002  0.460088\n",
       "4       4  0.141422  0.877423  0.196090\n",
       "5       5  0.073539  0.950963  0.073513\n",
       "6       6  0.031867  0.982830  0.024476\n",
       "7       7  0.011836  0.994666  0.007306\n",
       "8       8  0.003847  0.998513  0.001972"
      ]
     },
     "execution_count": 42,
     "metadata": {},
     "output_type": "execute_result"
    }
   ],
   "source": [
    "loss_x = []\n",
    "loss_x.append(lmbda - df.loc[0, 'demand'])\n",
    "\n",
    "for i in range(1, 9):\n",
    "    loss_x.append(\n",
    "        loss_x[i - 1] - \n",
    "        (df.loc[i, 'demand'] - df.loc[i - 1, 'demand']) *\n",
    "        (1 - df.loc[i - 1, 'F[x]'])\n",
    "    )\n",
    "\n",
    "df['L[x]'] = loss_x\n",
    "df"
   ]
  },
  {
   "cell_type": "markdown",
   "metadata": {},
   "source": [
    "$IFR = 1 - E[US] / Q$"
   ]
  },
  {
   "cell_type": "code",
   "execution_count": 44,
   "metadata": {},
   "outputs": [
    {
     "name": "stdout",
     "output_type": "stream",
     "text": [
      "IFR: 0.9877478051692604\n"
     ]
    }
   ],
   "source": [
    "Q = 6\n",
    "ifr = 1 - (df.loc[5, 'L[x]'] / Q)\n",
    "print(\"IFR: {}\".format(ifr))"
   ]
  },
  {
   "cell_type": "markdown",
   "metadata": {},
   "source": [
    "Therefore, at $s=5$, our $E[US] = 0.07$\n",
    "\n",
    "So $IFR = 1 - (0.07/6) = 98.8%$\n",
    "\n",
    "What if we want to solve for s given a specific IFR?"
   ]
  },
  {
   "cell_type": "code",
   "execution_count": 49,
   "metadata": {},
   "outputs": [
    {
     "name": "stdout",
     "output_type": "stream",
     "text": [
      "E[US]: 1.1999999999999997\n",
      "s: 2.0\n"
     ]
    }
   ],
   "source": [
    "# if IFR = 0.80, solve for corresponding E[US]\n",
    "ifr = 0.80\n",
    "e_us = Q * (1 - ifr)\n",
    "print(\"E[US]: {}\".format(e_us))\n",
    "\n",
    "# use that value to find the s value to satisfy that\n",
    "s = df[df['L[x]'] <= e_us].iloc[0]['demand']\n",
    "print(\"s: {}\".format(s))"
   ]
  },
  {
   "cell_type": "markdown",
   "metadata": {},
   "source": [
    "## Managing Class C Items\n",
    "\n",
    "* typically low $cD$ value\n",
    "* large #, low total value\n",
    "* diminishing returns on investing in complex policies\n",
    "\n",
    "**Objective**: minimize management attention\n",
    "\n",
    "* target simple rules\n",
    "* explore opportunities for disposing of\n",
    "\n",
    "### Simple Reorder Rules\n",
    "\n",
    "* Set common reorder quantities\n",
    "    * Assume common $c_t$ and $h$ values\n",
    "    * Find $D_ic_i$ values for ordering frequencies\n",
    "    * e.g. monthly, quarterly, semi-annual, or annual\n",
    "    \n",
    "```\n",
    "if D_i c_i >= 96 * (c_t / h) then order Monthly\n",
    "else if D_i c_i >= 16 * (c_t / h) then order Quarterly\n",
    "else if D_i c_i >= 4 * (c_t / h) then order Semi-Annually\n",
    "else if D_i c_i >= 4 * (c_t / h) then order Semi-Annually\n",
    "else order Annually\n",
    "```\n",
    "\n",
    "\n",
    "### Disposing of Excess Inventory\n",
    "\n",
    "* Why does excess occur?\n",
    "    - SKU portfolio growth\n",
    "    - poor forecasts - shorter lifecycles\n",
    "    \n",
    "* Which items to dispos?\n",
    "    - look at days-of-supply for each item: $IOH / D$\n",
    "    - consider getting rid of items that have $DOS > x years$\n",
    "    \n",
    "* What actions to take?\n",
    "    - convert to other uses\n",
    "    - ship to more desired location\n",
    "    - mark down price\n",
    "    - auction"
   ]
  }
 ],
 "metadata": {
  "kernelspec": {
   "display_name": "Python (supply-chain-python)",
   "language": "python",
   "name": "supply-chain-python"
  },
  "language_info": {
   "codemirror_mode": {
    "name": "ipython",
    "version": 3
   },
   "file_extension": ".py",
   "mimetype": "text/x-python",
   "name": "python",
   "nbconvert_exporter": "python",
   "pygments_lexer": "ipython3",
   "version": "3.7.2"
  }
 },
 "nbformat": 4,
 "nbformat_minor": 2
}
