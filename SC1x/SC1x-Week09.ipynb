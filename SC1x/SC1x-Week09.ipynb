{
 "cells": [
  {
   "cell_type": "markdown",
   "metadata": {},
   "source": [
    "## Multiple Items\n",
    "\n",
    "**Goals** beyond approach for single items:\n",
    "\n",
    "* manage _coordination_ of ordering\n",
    "* manage _common constraints_ (budget, space, etc.)\n",
    "* allow _consolidation_ (shared costs, etc.)\n",
    "* _conserve management time_\n",
    "\n",
    "**Techniques**:\n",
    "\n",
    "* Aggregate SKUs under similar operating policies\n",
    "    * group via common characteristics or break points\n",
    "    * group via Power of Two policies\n",
    "* Manage inventory under common constraints - Exchange Curves\n",
    "    * for Cycle Stock\n",
    "    * for Safety Stock"
   ]
  },
  {
   "cell_type": "markdown",
   "metadata": {},
   "source": [
    "### Group Like Items - Break Points\n",
    "\n",
    "**Basic Idea**:\n",
    "\n",
    "Replenish higher value items faster\n",
    "\n",
    "**Usage**: \n",
    "\n",
    "Multiple items with:\n",
    "\n",
    "* (relatively) stable demand\n",
    "* *similar* ordering costs, $c_t$\n",
    "* *similar* holding charges, $h$\n",
    "* *different* annual demands, $D_i$\n",
    "* *different* purchase costs, $c_i$\n",
    "\n",
    "**Approach**:\n",
    "\n",
    "* let $i$ represent the items under consideration\n",
    "* pick base time period, $w_0$\n",
    "    * typically a week\n",
    "* define set of candidate ordering periods, $w_j$: ($w_1$, $w_2$, etc.)\n",
    "    * note that the periods must be increasing, s.t. $w_{j-1} < w_j < w_{j+1}$\n",
    "* find $D_ic_i$ values where $TRC(w_j) = TRC(w_{j+1})$\n",
    "* group SKUS that fall in common value ($D_ic_i$) buckets\n",
    "\n",
    "**Rule**:\n",
    "\n",
    "```\n",
    "if   D_i * c_i >= 5408 * c_t / (h * w_1 * w_2) then select w_1\n",
    "elif D_i * c_i >= 5408 * c_t / (h * w_2 * w_3) then select w_2\n",
    "elif D_i * c_i >= 5408 * c_t / (h * w_3 * w_4) then select w_3\n",
    "etc ...\n",
    "```\n",
    "\n",
    "Note: The value '5408' assumes all costs and demand are defined in annual terms, and the $w_j$ values are _weekly_ increments.  It's calculated as $2 \\cdot 52^2$"
   ]
  },
  {
   "cell_type": "code",
   "execution_count": 3,
   "metadata": {},
   "outputs": [],
   "source": [
    "# TODO: concrete example\n",
    "# TODO: plot showing how different SKUs fall into groups"
   ]
  },
  {
   "cell_type": "markdown",
   "metadata": {},
   "source": [
    "### Power of Two Policies\n",
    "\n",
    "**Motivation**: \n",
    "\n",
    "* (from EOQ lessons):\n",
    "* TRC will be within 6% of optimal when ordering in time intervals of powers of two\n",
    "\n",
    "**Technique**:\n",
    "\n",
    "* create table of SKUs\n",
    "* calculate $T^*$ for each SKU\n",
    "\n",
    "$$\n",
    "T^* = \\frac{Q^*}{D} \\\n",
    "    = \\frac{\\sqrt{ \\frac{2 c_t D}{c_e} }}{D} \\\n",
    "    = \\sqrt{ \\frac{ 2 c_t } { D c_e }  }\n",
    "$$\n",
    "\n",
    "* calculate $T_{practical}$ for each SKU\n",
    "\n",
    "$$\n",
    "p = \\Biggl\\lceil \\frac{\\ln{\\left( \\frac{T^*}{\\sqrt{2}} \\right) }}{\\ln{(2)}} \\Biggr\\rceil\n",
    "$$\n",
    "\n",
    "$$\n",
    "T_{practical} = 2^{p}\n",
    "$$"
   ]
  },
  {
   "cell_type": "code",
   "execution_count": 4,
   "metadata": {},
   "outputs": [],
   "source": [
    "# TODO: concrete example\n",
    "# TODO: plot showing how different SKUs fall into different groups"
   ]
  },
  {
   "cell_type": "markdown",
   "metadata": {},
   "source": [
    "### Exchange Curves - Cycle Stock\n",
    "\n",
    "**Motivation**:\n",
    "\n",
    "* under a given budget for inventory\n",
    "* find the best allocation across multiple SKUs\n",
    "* using cost parameters as policy 'levers'\n",
    "\n",
    "**Relevant Cost Parameters**:\n",
    "\n",
    "* holding charge, $h$\n",
    "* ordering cost, $c_t$\n",
    "\n",
    "**Exchange Curve**:\n",
    "\n",
    "* trade-off between TACS and N:\n",
    "    * total annual cycle stock (TACS)\n",
    "    * $\\sum_{i=1}^n \\frac{Q_ic_i}{2}$    \n",
    "    * number of replenishments (N)\n",
    "    * $\\sum_{i=1}^n \\frac{D_i}{Q_i}$\n",
    "* determine $\\frac{c_t}{h}$ that meets budget constraints"
   ]
  },
  {
   "cell_type": "markdown",
   "metadata": {},
   "source": []
  },
  {
   "cell_type": "markdown",
   "metadata": {},
   "source": []
  },
  {
   "cell_type": "markdown",
   "metadata": {},
   "source": []
  },
  {
   "cell_type": "markdown",
   "metadata": {},
   "source": []
  }
 ],
 "metadata": {
  "kernelspec": {
   "display_name": "Python (supply-chain-python)",
   "language": "python",
   "name": "supply-chain-python"
  },
  "language_info": {
   "codemirror_mode": {
    "name": "ipython",
    "version": 3
   },
   "file_extension": ".py",
   "mimetype": "text/x-python",
   "name": "python",
   "nbconvert_exporter": "python",
   "pygments_lexer": "ipython3",
   "version": "3.7.2"
  }
 },
 "nbformat": 4,
 "nbformat_minor": 2
}
